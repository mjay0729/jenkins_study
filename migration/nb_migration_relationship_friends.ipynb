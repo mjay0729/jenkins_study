{
 "cells": [
  {
   "cell_type": "code",
   "execution_count": null,
   "id": "186de67d-2f35-4581-9070-464a02f14e15",
   "metadata": {},
   "outputs": [],
   "source": [
    "!/opt/conda/envs/iu_py27/bin/pip install cassandra-driver"
   ]
  },
  {
   "cell_type": "code",
   "execution_count": 4,
   "id": "7b53ce3a-904b-4ecd-b5cc-e06b27f1e657",
   "metadata": {
    "execution": {
     "iopub.execute_input": "2022-08-10T12:14:33.270297Z",
     "iopub.status.busy": "2022-08-10T12:14:33.269687Z",
     "iopub.status.idle": "2022-08-10T12:14:33.280077Z",
     "shell.execute_reply": "2022-08-10T12:14:33.277399Z",
     "shell.execute_reply.started": "2022-08-10T12:14:33.270222Z"
    },
    "tags": []
   },
   "outputs": [],
   "source": [
    "# packages\n",
    "from datetime import datetime, timedelta\n",
    "from cassandra.cluster import Cluster\n",
    "from cassandra.auth import PlainTextAuthProvider\n",
    "\n",
    "# Set the variables for cassandra\n",
    "hostnames = {\n",
    "    'single_node' : '10.241.0.110',\n",
    "    'cluster' : '10.128.175.71'\n",
    "}\n",
    "hostname = 'cluster'\n",
    "username = 'featurestore-superuser'\n",
    "password = 'HlOmCDx4d6wv7uSL6NtV'\n",
    "auth_provider = PlainTextAuthProvider(\n",
    "    username=username, password=password\n",
    ")\n",
    "\n",
    "target_date = datetime(2022,7,1).strftime('%Y%m%d')\n",
    "target_table = \"friends\"\n",
    "target_keyspace = \"featurestore\""
   ]
  },
  {
   "cell_type": "code",
   "execution_count": 5,
   "id": "5ef25ff1-00a9-473c-a2ba-9cb4f4e3abe8",
   "metadata": {
    "execution": {
     "iopub.execute_input": "2022-08-10T12:14:35.399601Z",
     "iopub.status.busy": "2022-08-10T12:14:35.399085Z",
     "iopub.status.idle": "2022-08-10T12:14:35.881195Z",
     "shell.execute_reply": "2022-08-10T12:14:35.879154Z",
     "shell.execute_reply.started": "2022-08-10T12:14:35.399516Z"
    },
    "tags": []
   },
   "outputs": [
    {
     "data": {
      "text/plain": [
       "<cassandra.cluster.ResultSet at 0x7fccc0dc3bd0>"
      ]
     },
     "execution_count": 5,
     "metadata": {},
     "output_type": "execute_result"
    }
   ],
   "source": [
    "#====================================================================#\n",
    "# create target table                                                #\n",
    "#====================================================================#\n",
    "\n",
    "if hostname == 'single_node':\n",
    "    cluster = Cluster([hostnames[hostname]])\n",
    "if hostname == 'cluster':\n",
    "    cluster = Cluster(\n",
    "        [hostnames[hostname]],\n",
    "        port=9042,\n",
    "        auth_provider=auth_provider\n",
    "    )\n",
    "\n",
    "session = cluster.connect()\n",
    "\n",
    "create_keyspace = \"\"\"\n",
    "CREATE KEYSPACE IF NOT EXISTS featurestore\n",
    "WITH REPLICATION = { 'class' : 'SimpleStrategy', 'replication_factor' : '1' }\n",
    "AND durable_writes = false\n",
    "\"\"\"\n",
    "\n",
    "session.execute(create_keyspace)\n",
    "\n",
    "create_table = \"\"\"\n",
    "CREATE TABLE IF NOT EXISTS featurestore.{target_table}\n",
    "( mid text\n",
    ", region text\n",
    ", followees_count bigint\n",
    ", followers_count bigint\n",
    ", bothways_count bigint\n",
    ", log_date text\n",
    ", PRIMARY KEY ((log_date, mid))\n",
    ")\n",
    "\"\"\"\n",
    "\n",
    "session.execute(\n",
    "    create_table.format(target_table=target_table)\n",
    ")"
   ]
  },
  {
   "cell_type": "code",
   "execution_count": 1,
   "id": "9827b7e7-a4ca-4cc6-8c71-fbdd22dfdb85",
   "metadata": {
    "execution": {
     "iopub.execute_input": "2022-08-01T07:02:39.394638Z",
     "iopub.status.busy": "2022-08-01T07:02:39.394143Z",
     "iopub.status.idle": "2022-08-01T07:02:48.645526Z",
     "shell.execute_reply": "2022-08-01T07:02:48.642748Z",
     "shell.execute_reply.started": "2022-08-01T07:02:39.394575Z"
    }
   },
   "outputs": [],
   "source": [
    "#====================================================================#\n",
    "# source tables from IU                                              #\n",
    "#====================================================================#\n",
    "query1 = \"\"\"\n",
    "select\n",
    "    mid,\n",
    "    region,\n",
    "    log_date\n",
    "from\n",
    "    linewallet_business_pro.w_user_base\n",
    "where\n",
    "    log_date='{target_date}'\n",
    "\"\"\"\n",
    "\n",
    "query2 = \"\"\"\n",
    "select\n",
    "    user_hash as mid,\n",
    "    followees_count,\n",
    "    followers_count,\n",
    "    bothways_count,\n",
    "    log_date\n",
    "from\n",
    "    user_seg.user_stats_sanpshot_app_filtered\n",
    "where\n",
    "    log_date='{target_date}'\n",
    "\"\"\"\n",
    "\n",
    "w_user_base = spark.sql(query1.format(target_date=target_date))\n",
    "user_stats = spark.sql(query2.format(target_date=target_date))\n",
    "\n",
    "#====================================================================#\n",
    "# Join the features to the IU source table                           #\n",
    "#====================================================================#\n",
    "result = w_user_base.join(\n",
    "    user_stats,\n",
    "    on=['mid', 'log_date'],\n",
    "    how='leftouter',\n",
    ")"
   ]
  },
  {
   "cell_type": "code",
   "execution_count": null,
   "id": "92880f3d-628f-4f9f-afe3-f0ed9f55d97e",
   "metadata": {},
   "outputs": [],
   "source": [
    "#====================================================================#\n",
    "# Insert the features to cassandra                                   #\n",
    "#====================================================================#\n",
    "\n",
    "print(\n",
    "    \"size of the {target_table} in IU : {size}\"\n",
    "    .format(\n",
    "        target_table = target_table,\n",
    "        size = format(result.count(), ',')\n",
    "    )\n",
    ")\n",
    "print(\n",
    "    \"[{start_time}] Insert START - table : {target_table}\"\n",
    "    .format(\n",
    "        start_time = datetime.now(),\n",
    "        target_table = target_table\n",
    "    )\n",
    ")\n",
    "\n",
    "# extract 10 samples\n",
    "sample = result.head(10)\n",
    "df_sample = spark.createDataFrame(sample)\n",
    "\n",
    "# write to cassandra\n",
    "(\n",
    "    df_sample\n",
    "    .write\n",
    "    .format(\"org.apache.spark.sql.cassandra\")\n",
    "    .mode(\"overwrite\")\n",
    "    .option(\"confirm.truncate\", \"true\")\n",
    "    .options(table=target_table, keyspace=target_keyspace)\n",
    "    .save()\n",
    ")\n",
    "print(\n",
    "    \"[{end_time}] Insert DONE - table : {target_table}\"\n",
    "    .format(\n",
    "        end_time = datetime.now(),\n",
    "        target_table = target_table\n",
    "    )\n",
    ")\n",
    "\n",
    "#====================================================================#\n",
    "# Verify the migrated features in cassandra                          #\n",
    "#====================================================================#\n",
    "\n",
    "df_cassandra = (\n",
    "    spark\n",
    "    .read\n",
    "    .format(\"org.apache.spark.sql.cassandra\")\n",
    "    .options(table=target_table, keyspace=target_keyspace)\n",
    "    .load()\n",
    ")\n",
    "df_cassandra.show()"
   ]
  }
 ],
 "metadata": {
  "kernelspec": {
   "display_name": "featurestore",
   "language": "python",
   "name": "featurestore"
  },
  "language_info": {
   "codemirror_mode": {
    "name": "ipython",
    "version": 2
   },
   "file_extension": ".py",
   "mimetype": "text/x-python",
   "name": "python",
   "nbconvert_exporter": "python",
   "pygments_lexer": "ipython2",
   "version": "2.7.18"
  }
 },
 "nbformat": 4,
 "nbformat_minor": 5
}
