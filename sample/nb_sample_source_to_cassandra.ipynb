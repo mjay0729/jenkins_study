{
 "cells": [
  {
   "cell_type": "markdown",
   "id": "efe120cb-5475-47d3-9143-ed6d57beed4f",
   "metadata": {},
   "source": [
    "# IU source table to Cassandra\n",
    "\n",
    "1. 주피터 노트북으로 사용할 때\n",
    "    - Jupyter Notebook 생성시 init script에 PYSPARK_SUBMIT_ARGS 추가 필요\n",
    "        - --packages com.datastax.spark:spark-cassandra-connector_2.11:2.5.1\n",
    "        - --conf spark.sql.extensions=com.datastax.spark.connector.CassandraSparkExtensions\n",
    "        - --conf spark.cassandra.connection.host=10.128.168.146  *(Cassandra IP 변경시 수정 필요)*\n",
    "    - Jupyter Notebook 생성시 IU 키탭 등록 (개발 기준)\n",
    "        - 키탭 계정명 입력: linewallet_ml_dev\n",
    "        - 키탭 파일 업로드: linewallet_ml_dev \n",
    "2. Airflow 의 MLUPapermill operator 로 사용할 때\n",
    "    - PYSPARK_SUBMIT_ARGS 추가: https://wiki.linecorp.com/display/MLU/%5BMLU+spec%5D+Default+argument+-+jupyter_cfg\n",
    "    - IU 키탭 등록: https://wiki.linecorp.com/display/MLU/%5BMLU+spec%5D+Default+argument+-+cluster_cfg  "
   ]
  },
  {
   "cell_type": "markdown",
   "id": "c8e8cf2c-9c15-4951-8bd7-0f86d87b2e69",
   "metadata": {},
   "source": [
    "## 주의\n",
    "**Paragraph 가 실행되지 않고 Kernel Restarting 이 발생할 경우, Shut Down Kernel 후 Restart Kernel...**"
   ]
  },
  {
   "cell_type": "markdown",
   "id": "c705db71-d859-4f20-ba63-7c264d8f0abd",
   "metadata": {},
   "source": [
    "## 0. Cassandra Keyspace 및 Table 생성"
   ]
  },
  {
   "cell_type": "markdown",
   "id": "d4b0ca47-fb1a-4393-9b7f-5ee77af47cc8",
   "metadata": {},
   "source": [
    "### cqlsh 실행 예시"
   ]
  },
  {
   "cell_type": "markdown",
   "id": "ceaa7ca3-390d-4e23-ae69-df69a3ce6ee3",
   "metadata": {},
   "source": [
    "*TODO: cassandra password 설정 필요*\n",
    "```console\n",
    "$ pip install cqlsh\n",
    "$ cqlsh 10.128.168.146\n",
    "```"
   ]
  },
  {
   "cell_type": "markdown",
   "id": "29ca7300-6d0d-43a8-8089-aaaf8e5451bd",
   "metadata": {
    "execution": {
     "iopub.execute_input": "2022-07-09T02:08:21.361910Z",
     "iopub.status.busy": "2022-07-09T02:08:21.361579Z",
     "iopub.status.idle": "2022-07-09T02:08:21.368616Z",
     "shell.execute_reply": "2022-07-09T02:08:21.366070Z",
     "shell.execute_reply.started": "2022-07-09T02:08:21.361861Z"
    }
   },
   "source": [
    "### keyspace 및 table 생성 cql 예시 (cqlsh 로 실행 필요)"
   ]
  },
  {
   "cell_type": "markdown",
   "id": "f7432b1f-cd28-4fdf-9710-0b7061d288b6",
   "metadata": {
    "execution": {
     "iopub.execute_input": "2022-07-09T02:15:12.931627Z",
     "iopub.status.busy": "2022-07-09T02:15:12.931345Z",
     "iopub.status.idle": "2022-07-09T02:15:12.938494Z",
     "shell.execute_reply": "2022-07-09T02:15:12.935957Z",
     "shell.execute_reply.started": "2022-07-09T02:15:12.931582Z"
    },
    "tags": []
   },
   "source": [
    "*TODO: class 및 replication_factor 수정 필요*\n",
    "```console\n",
    "cqlsh> CREATE KEYSPACE IF NOT EXISTS featurestore WITH REPLICATION = {'class': 'SimpleStrategy', 'replication_factor': '1'};\n",
    "```"
   ]
  },
  {
   "cell_type": "markdown",
   "id": "7b1d5af6-6fe5-4541-b1ef-9eb1190d9701",
   "metadata": {
    "execution": {
     "iopub.execute_input": "2022-07-09T02:15:13.700272Z",
     "iopub.status.busy": "2022-07-09T02:15:13.699997Z",
     "iopub.status.idle": "2022-07-09T02:15:13.707405Z",
     "shell.execute_reply": "2022-07-09T02:15:13.704897Z",
     "shell.execute_reply.started": "2022-07-09T02:15:13.700233Z"
    },
    "tags": []
   },
   "source": [
    "```console\n",
    "cqlsh> CREATE TABLE IF NOT EXISTS featurestore.wrs_user_demo \n",
    "( mid text\n",
    ", sex text\n",
    ", age_range text\n",
    ", age_group text\n",
    ", log_date text\n",
    ", region text\n",
    ", PRIMARY KEY ((log_date, region))\n",
    ");\n",
    "```"
   ]
  },
  {
   "cell_type": "markdown",
   "id": "8f916988-5d97-482f-b1db-1cad48f667f2",
   "metadata": {},
   "source": [
    "## 1. IU source table 데이터 로드"
   ]
  },
  {
   "cell_type": "code",
   "execution_count": null,
   "id": "fc9c68d7-54c0-427a-bf96-96034ef71844",
   "metadata": {
    "tags": [
     "parameters"
    ]
   },
   "outputs": [],
   "source": [
    "date = '20220707'\n",
    "dummy_param = 'param not injected'"
   ]
  },
  {
   "cell_type": "code",
   "execution_count": null,
   "id": "d7232ffa-865c-4ac1-9475-e427d5b2ca22",
   "metadata": {},
   "outputs": [],
   "source": [
    "print(\"---------------------------------------\")\n",
    "print(dummy_param)\n",
    "print(\"---------------------------------------\")"
   ]
  },
  {
   "cell_type": "code",
   "execution_count": 3,
   "id": "048380b3-4447-4316-b742-0bbf8b31cffd",
   "metadata": {
    "execution": {
     "iopub.execute_input": "2022-07-13T02:02:29.563792Z",
     "iopub.status.busy": "2022-07-13T02:02:29.563454Z",
     "iopub.status.idle": "2022-07-13T02:02:29.567960Z",
     "shell.execute_reply": "2022-07-13T02:02:29.567293Z",
     "shell.execute_reply.started": "2022-07-13T02:02:29.563752Z"
    },
    "tags": []
   },
   "outputs": [],
   "source": [
    "sql_load_source = \"\"\"\n",
    "select mid, sex, age_range, age_group, log_date, region\n",
    "from linewallet_ml_dev.wrs_user_demo\n",
    "where 1=1\n",
    "and log_date = '{date}'\n",
    "and region = 'JP'\n",
    "limit 100\n",
    "\"\"\".format(date=date)"
   ]
  },
  {
   "cell_type": "code",
   "execution_count": 4,
   "id": "962f53d7-ccff-4dae-b2d8-097c53f17b90",
   "metadata": {
    "execution": {
     "iopub.execute_input": "2022-07-13T02:02:31.554941Z",
     "iopub.status.busy": "2022-07-13T02:02:31.554658Z",
     "iopub.status.idle": "2022-07-13T02:02:39.448611Z",
     "shell.execute_reply": "2022-07-13T02:02:39.448014Z",
     "shell.execute_reply.started": "2022-07-13T02:02:31.554913Z"
    },
    "tags": []
   },
   "outputs": [],
   "source": [
    "df_source = spark.sql(sql_load_source)"
   ]
  },
  {
   "cell_type": "code",
   "execution_count": 5,
   "id": "5e6da654-651f-47b1-ac49-3d7ac364bf77",
   "metadata": {
    "execution": {
     "iopub.execute_input": "2022-07-13T02:02:40.499265Z",
     "iopub.status.busy": "2022-07-13T02:02:40.498999Z",
     "iopub.status.idle": "2022-07-13T02:02:44.317613Z",
     "shell.execute_reply": "2022-07-13T02:02:44.317052Z",
     "shell.execute_reply.started": "2022-07-13T02:02:40.499238Z"
    },
    "tags": []
   },
   "outputs": [
    {
     "data": {
      "text/plain": [
       "Row(mid='u8666febbec3dd517aea4b907470242d4', sex='f', age_range='50-', age_group='50', log_date='20220707', region='JP')"
      ]
     },
     "execution_count": 5,
     "metadata": {},
     "output_type": "execute_result"
    }
   ],
   "source": [
    "df_source.head()"
   ]
  },
  {
   "cell_type": "markdown",
   "id": "a06c4cbc-489b-4054-94c0-46c3b345944d",
   "metadata": {
    "execution": {
     "iopub.execute_input": "2022-07-09T02:48:35.992074Z",
     "iopub.status.busy": "2022-07-09T02:48:35.991784Z",
     "iopub.status.idle": "2022-07-09T02:48:35.998724Z",
     "shell.execute_reply": "2022-07-09T02:48:35.996219Z",
     "shell.execute_reply.started": "2022-07-09T02:48:35.992032Z"
    }
   },
   "source": [
    "## 2. Cassandra 테이블에 IU source table 데이터 적재"
   ]
  },
  {
   "cell_type": "code",
   "execution_count": 6,
   "id": "ee8cc994-7d77-45a7-9d3b-a2d8979b69eb",
   "metadata": {
    "execution": {
     "iopub.execute_input": "2022-07-09T02:51:49.462671Z",
     "iopub.status.busy": "2022-07-09T02:51:49.462372Z",
     "iopub.status.idle": "2022-07-09T02:52:00.899150Z",
     "shell.execute_reply": "2022-07-09T02:52:00.896506Z",
     "shell.execute_reply.started": "2022-07-09T02:51:49.462628Z"
    },
    "tags": []
   },
   "outputs": [],
   "source": [
    "df_source\\\n",
    "    .write\\\n",
    "    .format(\"org.apache.spark.sql.cassandra\")\\\n",
    "    .mode(\"append\")\\\n",
    "    .options(table=\"wrs_user_demo\", keyspace=\"featurestore\")\\\n",
    "    .save()"
   ]
  },
  {
   "cell_type": "markdown",
   "id": "c9015dc9-2969-4b58-8bfd-13acba3114f1",
   "metadata": {},
   "source": [
    "## 3. Cassandra 테이블 확인"
   ]
  },
  {
   "cell_type": "code",
   "execution_count": 6,
   "id": "bdc0c3d4-fe66-41d3-8f5a-41cda84bb412",
   "metadata": {
    "execution": {
     "iopub.execute_input": "2022-07-13T02:02:48.234383Z",
     "iopub.status.busy": "2022-07-13T02:02:48.234089Z",
     "iopub.status.idle": "2022-07-13T02:02:54.936989Z",
     "shell.execute_reply": "2022-07-13T02:02:54.936423Z",
     "shell.execute_reply.started": "2022-07-13T02:02:48.234353Z"
    },
    "tags": []
   },
   "outputs": [],
   "source": [
    "df_cassandra = spark\\\n",
    "                .read\\\n",
    "                .format(\"org.apache.spark.sql.cassandra\")\\\n",
    "                .options(table=\"wrs_user_demo\", keyspace=\"featurestore\")\\\n",
    "                .load()"
   ]
  },
  {
   "cell_type": "code",
   "execution_count": 7,
   "id": "8034e0c1-5af9-4db3-89d3-a959cb21df85",
   "metadata": {
    "execution": {
     "iopub.execute_input": "2022-07-13T02:02:55.623578Z",
     "iopub.status.busy": "2022-07-13T02:02:55.623299Z",
     "iopub.status.idle": "2022-07-13T02:03:04.688896Z",
     "shell.execute_reply": "2022-07-13T02:03:04.688280Z",
     "shell.execute_reply.started": "2022-07-13T02:02:55.623551Z"
    },
    "tags": []
   },
   "outputs": [
    {
     "data": {
      "text/plain": [
       "Row(log_date='20220707', region='JP', age_group='50', age_range='50-', mid='ue7a17910c67428b5d57f5e587b554390', sex='m')"
      ]
     },
     "execution_count": 7,
     "metadata": {},
     "output_type": "execute_result"
    }
   ],
   "source": [
    "df_cassandra.head()"
   ]
  },
  {
   "cell_type": "code",
   "execution_count": null,
   "id": "028beff2-c0d7-44c2-8e5b-2e18bd875985",
   "metadata": {},
   "outputs": [],
   "source": []
  }
 ],
 "metadata": {
  "kernelspec": {
   "display_name": "featurestore",
   "language": "python",
   "name": "featurestore"
  },
  "language_info": {
   "codemirror_mode": {
    "name": "ipython",
    "version": 3
   },
   "file_extension": ".py",
   "mimetype": "text/x-python",
   "name": "python",
   "nbconvert_exporter": "python",
   "pygments_lexer": "ipython3",
   "version": "3.6.15"
  }
 },
 "nbformat": 4,
 "nbformat_minor": 5
}
